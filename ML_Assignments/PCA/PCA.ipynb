{
 "cells": [
  {
   "cell_type": "code",
   "execution_count": 1,
   "id": "fef343da",
   "metadata": {},
   "outputs": [],
   "source": [
    "import numpy as np\n",
    "import pandas as pd\n",
    "import matplotlib.pyplot as plt\n",
    "from mat4py import loadmat"
   ]
  },
  {
   "cell_type": "code",
   "execution_count": 2,
   "id": "2396f8ed",
   "metadata": {},
   "outputs": [
    {
     "name": "stdout",
     "output_type": "stream",
     "text": [
      "         x1        x2\n",
      "0  3.381563  3.389113\n",
      "1  4.527875  5.854178\n",
      "2  2.655682  4.411995\n",
      "3  2.765235  3.715414\n",
      "4  2.846560  4.175506\n",
      "<class 'pandas.core.frame.DataFrame'>\n",
      "RangeIndex: 50 entries, 0 to 49\n",
      "Data columns (total 2 columns):\n",
      " #   Column  Non-Null Count  Dtype  \n",
      "---  ------  --------------  -----  \n",
      " 0   x1      50 non-null     float64\n",
      " 1   x2      50 non-null     float64\n",
      "dtypes: float64(2)\n",
      "memory usage: 928.0 bytes\n",
      "None\n"
     ]
    }
   ],
   "source": [
    "# Read the data from .mat file\n",
    "data = loadmat(\"/home/gmkim/Desktop/ML_Learning/ML_Assignments/PCA/ex7data1.mat\")\n",
    "df = pd.DataFrame(data['X'][:],columns=['x1','x2'])\n",
    "print(df.head())\n",
    "print(df.info())"
   ]
  },
  {
   "cell_type": "code",
   "execution_count": 3,
   "id": "6d86a67f",
   "metadata": {},
   "outputs": [],
   "source": [
    "n = len(df.index)\n",
    "X = df.to_numpy()"
   ]
  },
  {
   "cell_type": "code",
   "execution_count": 4,
   "id": "976d809e",
   "metadata": {},
   "outputs": [
    {
     "name": "stdout",
     "output_type": "stream",
     "text": [
      "[[3.98926528 5.00280585]\n",
      " [3.98926528 5.00280585]\n",
      " [3.98926528 5.00280585]\n",
      " [3.98926528 5.00280585]\n",
      " [3.98926528 5.00280585]\n",
      " [3.98926528 5.00280585]\n",
      " [3.98926528 5.00280585]\n",
      " [3.98926528 5.00280585]\n",
      " [3.98926528 5.00280585]\n",
      " [3.98926528 5.00280585]\n",
      " [3.98926528 5.00280585]\n",
      " [3.98926528 5.00280585]\n",
      " [3.98926528 5.00280585]\n",
      " [3.98926528 5.00280585]\n",
      " [3.98926528 5.00280585]\n",
      " [3.98926528 5.00280585]\n",
      " [3.98926528 5.00280585]\n",
      " [3.98926528 5.00280585]\n",
      " [3.98926528 5.00280585]\n",
      " [3.98926528 5.00280585]\n",
      " [3.98926528 5.00280585]\n",
      " [3.98926528 5.00280585]\n",
      " [3.98926528 5.00280585]\n",
      " [3.98926528 5.00280585]\n",
      " [3.98926528 5.00280585]\n",
      " [3.98926528 5.00280585]\n",
      " [3.98926528 5.00280585]\n",
      " [3.98926528 5.00280585]\n",
      " [3.98926528 5.00280585]\n",
      " [3.98926528 5.00280585]\n",
      " [3.98926528 5.00280585]\n",
      " [3.98926528 5.00280585]\n",
      " [3.98926528 5.00280585]\n",
      " [3.98926528 5.00280585]\n",
      " [3.98926528 5.00280585]\n",
      " [3.98926528 5.00280585]\n",
      " [3.98926528 5.00280585]\n",
      " [3.98926528 5.00280585]\n",
      " [3.98926528 5.00280585]\n",
      " [3.98926528 5.00280585]\n",
      " [3.98926528 5.00280585]\n",
      " [3.98926528 5.00280585]\n",
      " [3.98926528 5.00280585]\n",
      " [3.98926528 5.00280585]\n",
      " [3.98926528 5.00280585]\n",
      " [3.98926528 5.00280585]\n",
      " [3.98926528 5.00280585]\n",
      " [3.98926528 5.00280585]\n",
      " [3.98926528 5.00280585]\n",
      " [3.98926528 5.00280585]]\n"
     ]
    }
   ],
   "source": [
    "mean1 = df[\"x1\"].mean()\n",
    "mean2 = df[\"x2\"].mean()\n",
    "arr = np.array([mean1, mean2])\n",
    "mean_array = np.array([arr for i in range(n)])\n",
    "print(mean_array)"
   ]
  },
  {
   "cell_type": "code",
   "execution_count": 5,
   "id": "b584a7b5",
   "metadata": {},
   "outputs": [
    {
     "name": "stdout",
     "output_type": "stream",
     "text": [
      "[[-0.60770261 -1.61369317]\n",
      " [ 0.5386101   0.85137225]\n",
      " [-1.33358341 -0.59081113]\n",
      " [-1.22403061 -1.2873922 ]\n",
      " [-1.14270518 -0.8272994 ]\n",
      " [-0.09859333  1.48557502]\n",
      " [-0.51346004 -1.36995709]\n",
      " [ 1.92203316  1.67796268]\n",
      " [-0.06037131  0.09564076]\n",
      " [ 0.57257008  0.62049344]\n",
      " [ 0.58480642  0.39484484]\n",
      " [ 0.38246828  0.45835964]\n",
      " [ 0.20242859 -0.04811226]\n",
      " [ 1.2548199  -0.34131818]\n",
      " [-1.15342508 -1.23478869]\n",
      " [ 1.64600441  1.30930853]\n",
      " [ 0.6970644   0.66243525]\n",
      " [-1.13875191 -0.37634958]\n",
      " [ 1.12089202  2.36039077]\n",
      " [ 1.19329849 -0.35629676]\n",
      " [ 1.71806281  1.6782341 ]\n",
      " [-0.4095807  -0.20002511]\n",
      " [ 1.65011245  1.11763009]\n",
      " [ 0.27420323 -0.31337689]\n",
      " [-1.45274835 -1.11831507]\n",
      " [-0.76543626 -0.06025   ]\n",
      " [ 0.94022273  0.95221386]\n",
      " [ 1.80369246  0.1055872 ]\n",
      " [-1.17241704 -0.18384816]\n",
      " [-0.10044114  0.09755979]\n",
      " [-0.64603109  0.8902076 ]\n",
      " [ 1.89046886  0.51861079]\n",
      " [-0.88534616 -1.14570343]\n",
      " [ 1.34224044 -0.3220635 ]\n",
      " [-0.61383841 -0.43742733]\n",
      " [ 0.7874136   1.25154454]\n",
      " [-1.31351898 -1.27183597]\n",
      " [ 1.51101137  0.67667528]\n",
      " [-2.19216814 -1.755267  ]\n",
      " [ 0.33324942  0.10829887]\n",
      " [ 0.43173917  1.02283393]\n",
      " [-0.80996642 -0.56594553]\n",
      " [-0.95572403 -1.02401307]\n",
      " [ 0.62008292  0.87698615]\n",
      " [-1.02547669 -1.7025575 ]\n",
      " [-0.0175028   0.4049315 ]\n",
      " [-2.80903208 -2.12411176]\n",
      " [-2.07031483  0.06827262]\n",
      " [-0.03401841 -0.49747875]\n",
      " [ 1.12868971  1.08226801]]\n"
     ]
    }
   ],
   "source": [
    "X_re = X - mean_array\n",
    "print(X_re)"
   ]
  },
  {
   "cell_type": "code",
   "execution_count": 6,
   "id": "64c79680",
   "metadata": {},
   "outputs": [
    {
     "data": {
      "image/png": "[encoded data removed]",
      "text/plain": [
       "<Figure size 432x288 with 1 Axes>"
      ]
     },
     "metadata": {
      "needs_background": "light"
     },
     "output_type": "display_data"
    }
   ],
   "source": [
    "fig = plt.figure()\n",
    "ax = fig.add_axes([0,0,1,1])\n",
    "\n",
    "ax.scatter(X_re[:,0],X_re[:,1])\n",
    "ax.set_xlabel(\"x1\")\n",
    "ax.set_ylabel(\"x2\")\n",
    "plt.show()"
   ]
  },
  {
   "cell_type": "code",
   "execution_count": 7,
   "id": "90809c75",
   "metadata": {},
   "outputs": [],
   "source": [
    "def cov_mat(X,n):\n",
    "    cov_mat = (np.matmul(X.T,X)) / n\n",
    "    \n",
    "    return cov_mat"
   ]
  },
  {
   "cell_type": "code",
   "execution_count": 8,
   "id": "bca2d5fc",
   "metadata": {},
   "outputs": [
    {
     "name": "stdout",
     "output_type": "stream",
     "text": [
      "[[1.34852518 0.86535019]\n",
      " [0.86535019 1.02641621]]\n"
     ]
    }
   ],
   "source": [
    "sigma = cov_mat(X_re,n)\n",
    "print(sigma)"
   ]
  },
  {
   "cell_type": "code",
   "execution_count": 9,
   "id": "4ce8290d",
   "metadata": {},
   "outputs": [
    {
     "name": "stdout",
     "output_type": "stream",
     "text": [
      "[[ 0.76908153 -0.63915068]\n",
      " [ 0.63915068  0.76908153]]\n",
      "2.067680615992352\n",
      "0.3072607762413456\n",
      "[0.76908153 0.63915068]\n",
      "[-0.63915068  0.76908153]\n"
     ]
    }
   ],
   "source": [
    "evalue = np.linalg.eig(sigma)[0]\n",
    "evalue_1 = evalue[0]\n",
    "evalue_2 = evalue[1]\n",
    "evector = np.linalg.eig(sigma)[1]\n",
    "evector_1 = evector[:,0]\n",
    "evector_2 = evector[:,1]\n",
    "print(evector)\n",
    "print(evalue_1)\n",
    "print(evalue_2)\n",
    "print(evector_1)\n",
    "print(evector_2)"
   ]
  },
  {
   "cell_type": "code",
   "execution_count": 10,
   "id": "708e75d5",
   "metadata": {},
   "outputs": [
    {
     "data": {
      "image/png": "[encoded data removed]",
      "text/plain": [
       "<Figure size 432x288 with 1 Axes>"
      ]
     },
     "metadata": {
      "needs_background": "light"
     },
     "output_type": "display_data"
    }
   ],
   "source": [
    "# Plot e-vectors on the figure\n",
    "origin = [0,0]\n",
    "fig = plt.figure()\n",
    "ax = fig.add_axes([0,0,1,1])\n",
    "\n",
    "ax.scatter(X_re[:,0],X_re[:,1])\n",
    "ax.set_xlabel(\"x1\")\n",
    "ax.set_ylabel(\"x2\")\n",
    "\n",
    "ax.quiver(*origin,*evector_1, color=\"r\", scale=3)\n",
    "ax.quiver(*origin,*evector_2, color=\"y\", scale=10)\n",
    "\n",
    "plt.show()"
   ]
  },
  {
   "cell_type": "code",
   "execution_count": 11,
   "id": "17ae9e41",
   "metadata": {},
   "outputs": [
    {
     "name": "stdout",
     "output_type": "stream",
     "text": [
      "U Matrix :  [[-0.14740326  0.21753606 -0.14652229 ... -0.19268034 -0.02076673\n",
      "   0.14456323]\n",
      " [ 0.09425744 -0.07922338 -0.0837686  ... -0.3352168   0.09829793\n",
      "  -0.05031898]\n",
      " [-0.13800946 -0.10153631  0.96994811 ... -0.05868388  0.0051223\n",
      "   0.01832722]\n",
      " ...\n",
      " [-0.15230486 -0.35099511 -0.0639443  ...  0.844189    0.02604669\n",
      "   0.02071472]\n",
      " [-0.03384479  0.09206589  0.00769737 ...  0.03017854  0.99127302\n",
      "   0.00425505]\n",
      " [ 0.15340464 -0.02830655  0.01521929 ...  0.01143763  0.0063552\n",
      "   0.97991733]]\n",
      "S Matrix :  [10.1677938   3.91957125]\n",
      "V Matrix :  [[ 0.76908153  0.63915068]\n",
      " [ 0.63915068 -0.76908153]]\n"
     ]
    }
   ],
   "source": [
    "U, S, V = np.linalg.svd(X_re)\n",
    "print(\"U Matrix : \", U)\n",
    "print(\"S Matrix : \", S)\n",
    "print(\"V Matrix : \", V)"
   ]
  },
  {
   "cell_type": "code",
   "execution_count": 12,
   "id": "b4446610",
   "metadata": {},
   "outputs": [
    {
     "name": "stdout",
     "output_type": "stream",
     "text": [
      "[0.76908153 0.63915068]\n",
      "[ 0.63915068 -0.76908153]\n"
     ]
    }
   ],
   "source": [
    "svd_evector_1 = V[:,0]\n",
    "svd_evector_2 = V[:,1]\n",
    "print(svd_evector_1)\n",
    "print(svd_evector_2)"
   ]
  },
  {
   "cell_type": "code",
   "execution_count": 13,
   "id": "c96c15de",
   "metadata": {},
   "outputs": [
    {
     "data": {
      "image/png": "[encoded data removed]",
      "text/plain": [
       "<Figure size 432x288 with 1 Axes>"
      ]
     },
     "metadata": {
      "needs_background": "light"
     },
     "output_type": "display_data"
    }
   ],
   "source": [
    "# Plot e-vectors on the figure\n",
    "origin = [0,0]\n",
    "fig = plt.figure()\n",
    "ax = fig.add_axes([0,0,1,1])\n",
    "\n",
    "ax.scatter(X_re[:,0],X_re[:,1])\n",
    "ax.set_xlabel(\"x1\")\n",
    "ax.set_ylabel(\"x2\")\n",
    "\n",
    "ax.quiver(*origin,*svd_evector_1, color=\"r\", scale=3)\n",
    "ax.quiver(*origin,*svd_evector_2, color=\"y\", scale=10)\n",
    "\n",
    "plt.show()"
   ]
  },
  {
   "cell_type": "code",
   "execution_count": 15,
   "id": "8aaa3292",
   "metadata": {},
   "outputs": [],
   "source": [
    "def projection(v,lv):\n",
    "    lv_norm = np.sqrt(sum(lv**2))\n",
    "    vprime = (np.dot(v,lv)/lv_norm**2)*lv\n",
    "    return vprime"
   ]
  },
  {
   "cell_type": "code",
   "execution_count": 16,
   "id": "7e61e2d3",
   "metadata": {},
   "outputs": [
    {
     "name": "stdout",
     "output_type": "stream",
     "text": [
      "[[-1.15267321 -0.95793728]\n",
      " [ 0.73708023  0.61255577]\n",
      " [-1.07921498 -0.89688929]\n",
      " [-1.35682667 -1.12760046]\n",
      " [-1.08256103 -0.89967005]\n",
      " [ 0.67193114  0.55841316]\n",
      " [-0.97711935 -0.81204199]\n",
      " [ 1.96167412  1.63026324]\n",
      " [ 0.01130426  0.00939449]\n",
      " [ 0.64367655  0.53493198]\n",
      " [ 0.53999458  0.44876634]\n",
      " [ 0.45153559  0.37525186]\n",
      " [ 0.09608375  0.07985108]\n",
      " [ 0.57443089  0.47738488]\n",
      " [-1.28920673 -1.07140443]\n",
      " [ 1.61719161  1.34397859]\n",
      " [ 0.73793012  0.61326208]\n",
      " [-0.85855429 -0.71350765]\n",
      " [ 1.82326369  1.51523626]\n",
      " [ 0.53067896  0.44102452]\n",
      " [ 1.84116185  1.53011066]\n",
      " [-0.34058556 -0.28304605]\n",
      " [ 1.5254002   1.26769469]\n",
      " [ 0.00814426  0.00676834]\n",
      " [-1.40899873 -1.17095842]\n",
      " [-0.48236157 -0.40087002]\n",
      " [ 1.02419824  0.85116724]\n",
      " [ 1.11876191  0.92975505]\n",
      " [-0.78384096 -0.65141661]\n",
      " [-0.01145318 -0.00951825]\n",
      " [ 0.05547094  0.04609952]\n",
      " [ 1.37311442  1.14113651]\n",
      " [-1.08685103 -0.90323529]\n",
      " [ 0.63560376  0.52822303]\n",
      " [-0.57809841 -0.4804328 ]\n",
      " [ 1.08095241  0.89833319]\n",
      " [-1.40211102 -1.16523434]\n",
      " [ 1.2263685   1.01918227]\n",
      " [-2.15945492 -1.79463038]\n",
      " [ 0.25034779  0.20805331]\n",
      " [ 0.75815106  0.63006683]\n",
      " [-0.75727974 -0.62934272]\n",
      " [-1.0686606  -0.888118  ]\n",
      " [ 0.79786104  0.6630681 ]\n",
      " [-1.44346296 -1.19960017]\n",
      " [ 0.18869505  0.15681637]\n",
      " [-2.70563051 -2.24853349]\n",
      " [-1.19100306 -0.98979157]\n",
      " [-0.26466158 -0.21994889]\n",
      " [ 1.19960319  0.99693877]]\n"
     ]
    }
   ],
   "source": [
    "proj_arr = np.array([[]])\n",
    "for i in range(n):\n",
    "    proj = projection(X_re[i],evector_1)\n",
    "    proj_arr = np.append(proj_arr,proj)\n",
    "proj_arr = np.reshape(proj_arr,(n,2))\n",
    "print(proj_arr)"
   ]
  },
  {
   "cell_type": "code",
   "execution_count": 17,
   "id": "2b202676",
   "metadata": {},
   "outputs": [
    {
     "data": {
      "image/png": "[encoded data removed]",
      "text/plain": [
       "<Figure size 432x288 with 1 Axes>"
      ]
     },
     "metadata": {
      "needs_background": "light"
     },
     "output_type": "display_data"
    }
   ],
   "source": [
    "fig = plt.figure()\n",
    "ax = fig.add_axes([0,0,1,1])\n",
    "\n",
    "ax.scatter(X_re[:,0],X_re[:,1])\n",
    "ax.set_xlabel(\"x1\")\n",
    "ax.set_ylabel(\"x2\")\n",
    "\n",
    "ax.scatter(proj_arr[:,0],proj_arr[:,1])\n",
    "\n",
    "plt.show()"
   ]
  },
  {
   "cell_type": "code",
   "execution_count": 46,
   "id": "22a713d3",
   "metadata": {},
   "outputs": [],
   "source": [
    "# Unsupervised Learning, PCA with Scikit-learn\n",
    "from sklearn.datasets import load_breast_cancer\n",
    "from sklearn.preprocessing import StandardScaler\n",
    "from sklearn.decomposition import PCA"
   ]
  },
  {
   "cell_type": "code",
   "execution_count": 25,
   "id": "3e038397",
   "metadata": {},
   "outputs": [
    {
     "data": {
      "text/html": [
       "<div>\n",
       "<style scoped>\n",
       "    .dataframe tbody tr th:only-of-type {\n",
       "        vertical-align: middle;\n",
       "    }\n",
       "\n",
       "    .dataframe tbody tr th {\n",
       "        vertical-align: top;\n",
       "    }\n",
       "\n",
       "    .dataframe thead th {\n",
       "        text-align: right;\n",
       "    }\n",
       "</style>\n",
       "<table border=\"1\" class=\"dataframe\">\n",
       "  <thead>\n",
       "    <tr style=\"text-align: right;\">\n",
       "      <th></th>\n",
       "      <th>mean radius</th>\n",
       "      <th>mean texture</th>\n",
       "      <th>mean perimeter</th>\n",
       "      <th>mean area</th>\n",
       "      <th>mean smoothness</th>\n",
       "      <th>mean compactness</th>\n",
       "      <th>mean concavity</th>\n",
       "      <th>mean concave points</th>\n",
       "      <th>mean symmetry</th>\n",
       "      <th>mean fractal dimension</th>\n",
       "      <th>...</th>\n",
       "      <th>worst radius</th>\n",
       "      <th>worst texture</th>\n",
       "      <th>worst perimeter</th>\n",
       "      <th>worst area</th>\n",
       "      <th>worst smoothness</th>\n",
       "      <th>worst compactness</th>\n",
       "      <th>worst concavity</th>\n",
       "      <th>worst concave points</th>\n",
       "      <th>worst symmetry</th>\n",
       "      <th>worst fractal dimension</th>\n",
       "    </tr>\n",
       "  </thead>\n",
       "  <tbody>\n",
       "    <tr>\n",
       "      <th>0</th>\n",
       "      <td>17.99</td>\n",
       "      <td>10.38</td>\n",
       "      <td>122.80</td>\n",
       "      <td>1001.0</td>\n",
       "      <td>0.11840</td>\n",
       "      <td>0.27760</td>\n",
       "      <td>0.3001</td>\n",
       "      <td>0.14710</td>\n",
       "      <td>0.2419</td>\n",
       "      <td>0.07871</td>\n",
       "      <td>...</td>\n",
       "      <td>25.38</td>\n",
       "      <td>17.33</td>\n",
       "      <td>184.60</td>\n",
       "      <td>2019.0</td>\n",
       "      <td>0.1622</td>\n",
       "      <td>0.6656</td>\n",
       "      <td>0.7119</td>\n",
       "      <td>0.2654</td>\n",
       "      <td>0.4601</td>\n",
       "      <td>0.11890</td>\n",
       "    </tr>\n",
       "    <tr>\n",
       "      <th>1</th>\n",
       "      <td>20.57</td>\n",
       "      <td>17.77</td>\n",
       "      <td>132.90</td>\n",
       "      <td>1326.0</td>\n",
       "      <td>0.08474</td>\n",
       "      <td>0.07864</td>\n",
       "      <td>0.0869</td>\n",
       "      <td>0.07017</td>\n",
       "      <td>0.1812</td>\n",
       "      <td>0.05667</td>\n",
       "      <td>...</td>\n",
       "      <td>24.99</td>\n",
       "      <td>23.41</td>\n",
       "      <td>158.80</td>\n",
       "      <td>1956.0</td>\n",
       "      <td>0.1238</td>\n",
       "      <td>0.1866</td>\n",
       "      <td>0.2416</td>\n",
       "      <td>0.1860</td>\n",
       "      <td>0.2750</td>\n",
       "      <td>0.08902</td>\n",
       "    </tr>\n",
       "    <tr>\n",
       "      <th>2</th>\n",
       "      <td>19.69</td>\n",
       "      <td>21.25</td>\n",
       "      <td>130.00</td>\n",
       "      <td>1203.0</td>\n",
       "      <td>0.10960</td>\n",
       "      <td>0.15990</td>\n",
       "      <td>0.1974</td>\n",
       "      <td>0.12790</td>\n",
       "      <td>0.2069</td>\n",
       "      <td>0.05999</td>\n",
       "      <td>...</td>\n",
       "      <td>23.57</td>\n",
       "      <td>25.53</td>\n",
       "      <td>152.50</td>\n",
       "      <td>1709.0</td>\n",
       "      <td>0.1444</td>\n",
       "      <td>0.4245</td>\n",
       "      <td>0.4504</td>\n",
       "      <td>0.2430</td>\n",
       "      <td>0.3613</td>\n",
       "      <td>0.08758</td>\n",
       "    </tr>\n",
       "    <tr>\n",
       "      <th>3</th>\n",
       "      <td>11.42</td>\n",
       "      <td>20.38</td>\n",
       "      <td>77.58</td>\n",
       "      <td>386.1</td>\n",
       "      <td>0.14250</td>\n",
       "      <td>0.28390</td>\n",
       "      <td>0.2414</td>\n",
       "      <td>0.10520</td>\n",
       "      <td>0.2597</td>\n",
       "      <td>0.09744</td>\n",
       "      <td>...</td>\n",
       "      <td>14.91</td>\n",
       "      <td>26.50</td>\n",
       "      <td>98.87</td>\n",
       "      <td>567.7</td>\n",
       "      <td>0.2098</td>\n",
       "      <td>0.8663</td>\n",
       "      <td>0.6869</td>\n",
       "      <td>0.2575</td>\n",
       "      <td>0.6638</td>\n",
       "      <td>0.17300</td>\n",
       "    </tr>\n",
       "    <tr>\n",
       "      <th>4</th>\n",
       "      <td>20.29</td>\n",
       "      <td>14.34</td>\n",
       "      <td>135.10</td>\n",
       "      <td>1297.0</td>\n",
       "      <td>0.10030</td>\n",
       "      <td>0.13280</td>\n",
       "      <td>0.1980</td>\n",
       "      <td>0.10430</td>\n",
       "      <td>0.1809</td>\n",
       "      <td>0.05883</td>\n",
       "      <td>...</td>\n",
       "      <td>22.54</td>\n",
       "      <td>16.67</td>\n",
       "      <td>152.20</td>\n",
       "      <td>1575.0</td>\n",
       "      <td>0.1374</td>\n",
       "      <td>0.2050</td>\n",
       "      <td>0.4000</td>\n",
       "      <td>0.1625</td>\n",
       "      <td>0.2364</td>\n",
       "      <td>0.07678</td>\n",
       "    </tr>\n",
       "  </tbody>\n",
       "</table>\n",
       "<p>5 rows × 30 columns</p>\n",
       "</div>"
      ],
      "text/plain": [
       "   mean radius  mean texture  mean perimeter  mean area  mean smoothness  \\\n",
       "0        17.99         10.38          122.80     1001.0          0.11840   \n",
       "1        20.57         17.77          132.90     1326.0          0.08474   \n",
       "2        19.69         21.25          130.00     1203.0          0.10960   \n",
       "3        11.42         20.38           77.58      386.1          0.14250   \n",
       "4        20.29         14.34          135.10     1297.0          0.10030   \n",
       "\n",
       "   mean compactness  mean concavity  mean concave points  mean symmetry  \\\n",
       "0           0.27760          0.3001              0.14710         0.2419   \n",
       "1           0.07864          0.0869              0.07017         0.1812   \n",
       "2           0.15990          0.1974              0.12790         0.2069   \n",
       "3           0.28390          0.2414              0.10520         0.2597   \n",
       "4           0.13280          0.1980              0.10430         0.1809   \n",
       "\n",
       "   mean fractal dimension  ...  worst radius  worst texture  worst perimeter  \\\n",
       "0                 0.07871  ...         25.38          17.33           184.60   \n",
       "1                 0.05667  ...         24.99          23.41           158.80   \n",
       "2                 0.05999  ...         23.57          25.53           152.50   \n",
       "3                 0.09744  ...         14.91          26.50            98.87   \n",
       "4                 0.05883  ...         22.54          16.67           152.20   \n",
       "\n",
       "   worst area  worst smoothness  worst compactness  worst concavity  \\\n",
       "0      2019.0            0.1622             0.6656           0.7119   \n",
       "1      1956.0            0.1238             0.1866           0.2416   \n",
       "2      1709.0            0.1444             0.4245           0.4504   \n",
       "3       567.7            0.2098             0.8663           0.6869   \n",
       "4      1575.0            0.1374             0.2050           0.4000   \n",
       "\n",
       "   worst concave points  worst symmetry  worst fractal dimension  \n",
       "0                0.2654          0.4601                  0.11890  \n",
       "1                0.1860          0.2750                  0.08902  \n",
       "2                0.2430          0.3613                  0.08758  \n",
       "3                0.2575          0.6638                  0.17300  \n",
       "4                0.1625          0.2364                  0.07678  \n",
       "\n",
       "[5 rows x 30 columns]"
      ]
     },
     "execution_count": 25,
     "metadata": {},
     "output_type": "execute_result"
    }
   ],
   "source": [
    "# Loading datasets\n",
    "cancer = load_breast_cancer()\n",
    "cancer.keys()\n",
    "\n",
    "df = pd.DataFrame(cancer['data'],columns=cancer['feature_names'])\n",
    "df.head()"
   ]
  },
  {
   "cell_type": "code",
   "execution_count": 27,
   "id": "bf6baa54",
   "metadata": {},
   "outputs": [
    {
     "data": {
      "text/html": [
       "<style>#sk-container-id-1 {color: black;background-color: white;}#sk-container-id-1 pre{padding: 0;}#sk-container-id-1 div.sk-toggleable {background-color: white;}#sk-container-id-1 label.sk-toggleable__label {cursor: pointer;display: block;width: 100%;margin-bottom: 0;padding: 0.3em;box-sizing: border-box;text-align: center;}#sk-container-id-1 label.sk-toggleable__label-arrow:before {content: \"▸\";float: left;margin-right: 0.25em;color: #696969;}#sk-container-id-1 label.sk-toggleable__label-arrow:hover:before {color: black;}#sk-container-id-1 div.sk-estimator:hover label.sk-toggleable__label-arrow:before {color: black;}#sk-container-id-1 div.sk-toggleable__content {max-height: 0;max-width: 0;overflow: hidden;text-align: left;background-color: #f0f8ff;}#sk-container-id-1 div.sk-toggleable__content pre {margin: 0.2em;color: black;border-radius: 0.25em;background-color: #f0f8ff;}#sk-container-id-1 input.sk-toggleable__control:checked~div.sk-toggleable__content {max-height: 200px;max-width: 100%;overflow: auto;}#sk-container-id-1 input.sk-toggleable__control:checked~label.sk-toggleable__label-arrow:before {content: \"▾\";}#sk-container-id-1 div.sk-estimator input.sk-toggleable__control:checked~label.sk-toggleable__label {background-color: #d4ebff;}#sk-container-id-1 div.sk-label input.sk-toggleable__control:checked~label.sk-toggleable__label {background-color: #d4ebff;}#sk-container-id-1 input.sk-hidden--visually {border: 0;clip: rect(1px 1px 1px 1px);clip: rect(1px, 1px, 1px, 1px);height: 1px;margin: -1px;overflow: hidden;padding: 0;position: absolute;width: 1px;}#sk-container-id-1 div.sk-estimator {font-family: monospace;background-color: #f0f8ff;border: 1px dotted black;border-radius: 0.25em;box-sizing: border-box;margin-bottom: 0.5em;}#sk-container-id-1 div.sk-estimator:hover {background-color: #d4ebff;}#sk-container-id-1 div.sk-parallel-item::after {content: \"\";width: 100%;border-bottom: 1px solid gray;flex-grow: 1;}#sk-container-id-1 div.sk-label:hover label.sk-toggleable__label {background-color: #d4ebff;}#sk-container-id-1 div.sk-serial::before {content: \"\";position: absolute;border-left: 1px solid gray;box-sizing: border-box;top: 0;bottom: 0;left: 50%;z-index: 0;}#sk-container-id-1 div.sk-serial {display: flex;flex-direction: column;align-items: center;background-color: white;padding-right: 0.2em;padding-left: 0.2em;position: relative;}#sk-container-id-1 div.sk-item {position: relative;z-index: 1;}#sk-container-id-1 div.sk-parallel {display: flex;align-items: stretch;justify-content: center;background-color: white;position: relative;}#sk-container-id-1 div.sk-item::before, #sk-container-id-1 div.sk-parallel-item::before {content: \"\";position: absolute;border-left: 1px solid gray;box-sizing: border-box;top: 0;bottom: 0;left: 50%;z-index: -1;}#sk-container-id-1 div.sk-parallel-item {display: flex;flex-direction: column;z-index: 1;position: relative;background-color: white;}#sk-container-id-1 div.sk-parallel-item:first-child::after {align-self: flex-end;width: 50%;}#sk-container-id-1 div.sk-parallel-item:last-child::after {align-self: flex-start;width: 50%;}#sk-container-id-1 div.sk-parallel-item:only-child::after {width: 0;}#sk-container-id-1 div.sk-dashed-wrapped {border: 1px dashed gray;margin: 0 0.4em 0.5em 0.4em;box-sizing: border-box;padding-bottom: 0.4em;background-color: white;}#sk-container-id-1 div.sk-label label {font-family: monospace;font-weight: bold;display: inline-block;line-height: 1.2em;}#sk-container-id-1 div.sk-label-container {text-align: center;}#sk-container-id-1 div.sk-container {/* jupyter's `normalize.less` sets `[hidden] { display: none; }` but bootstrap.min.css set `[hidden] { display: none !important; }` so we also need the `!important` here to be able to override the default hidden behavior on the sphinx rendered scikit-learn.org. See: https://github.com/scikit-learn/scikit-learn/issues/21755 */display: inline-block !important;position: relative;}#sk-container-id-1 div.sk-text-repr-fallback {display: none;}</style><div id=\"sk-container-id-1\" class=\"sk-top-container\"><div class=\"sk-text-repr-fallback\"><pre>StandardScaler()</pre><b>In a Jupyter environment, please rerun this cell to show the HTML representation or trust the notebook. <br />On GitHub, the HTML representation is unable to render, please try loading this page with nbviewer.org.</b></div><div class=\"sk-container\" hidden><div class=\"sk-item\"><div class=\"sk-estimator sk-toggleable\"><input class=\"sk-toggleable__control sk-hidden--visually\" id=\"sk-estimator-id-1\" type=\"checkbox\" checked><label for=\"sk-estimator-id-1\" class=\"sk-toggleable__label sk-toggleable__label-arrow\">StandardScaler</label><div class=\"sk-toggleable__content\"><pre>StandardScaler()</pre></div></div></div></div></div>"
      ],
      "text/plain": [
       "StandardScaler()"
      ]
     },
     "execution_count": 27,
     "metadata": {},
     "output_type": "execute_result"
    }
   ],
   "source": [
    "# Scaled data\n",
    "## PCA is sensitive at the scale of given data.\n",
    "scaler = StandardScaler()\n",
    "scaler.fit(df)"
   ]
  },
  {
   "cell_type": "code",
   "execution_count": 37,
   "id": "03758e3c",
   "metadata": {},
   "outputs": [],
   "source": [
    "scaled_data = scaler.transform(df)"
   ]
  },
  {
   "cell_type": "code",
   "execution_count": 41,
   "id": "5a83b8ba",
   "metadata": {},
   "outputs": [
    {
     "data": {
      "text/html": [
       "<style>#sk-container-id-4 {color: black;background-color: white;}#sk-container-id-4 pre{padding: 0;}#sk-container-id-4 div.sk-toggleable {background-color: white;}#sk-container-id-4 label.sk-toggleable__label {cursor: pointer;display: block;width: 100%;margin-bottom: 0;padding: 0.3em;box-sizing: border-box;text-align: center;}#sk-container-id-4 label.sk-toggleable__label-arrow:before {content: \"▸\";float: left;margin-right: 0.25em;color: #696969;}#sk-container-id-4 label.sk-toggleable__label-arrow:hover:before {color: black;}#sk-container-id-4 div.sk-estimator:hover label.sk-toggleable__label-arrow:before {color: black;}#sk-container-id-4 div.sk-toggleable__content {max-height: 0;max-width: 0;overflow: hidden;text-align: left;background-color: #f0f8ff;}#sk-container-id-4 div.sk-toggleable__content pre {margin: 0.2em;color: black;border-radius: 0.25em;background-color: #f0f8ff;}#sk-container-id-4 input.sk-toggleable__control:checked~div.sk-toggleable__content {max-height: 200px;max-width: 100%;overflow: auto;}#sk-container-id-4 input.sk-toggleable__control:checked~label.sk-toggleable__label-arrow:before {content: \"▾\";}#sk-container-id-4 div.sk-estimator input.sk-toggleable__control:checked~label.sk-toggleable__label {background-color: #d4ebff;}#sk-container-id-4 div.sk-label input.sk-toggleable__control:checked~label.sk-toggleable__label {background-color: #d4ebff;}#sk-container-id-4 input.sk-hidden--visually {border: 0;clip: rect(1px 1px 1px 1px);clip: rect(1px, 1px, 1px, 1px);height: 1px;margin: -1px;overflow: hidden;padding: 0;position: absolute;width: 1px;}#sk-container-id-4 div.sk-estimator {font-family: monospace;background-color: #f0f8ff;border: 1px dotted black;border-radius: 0.25em;box-sizing: border-box;margin-bottom: 0.5em;}#sk-container-id-4 div.sk-estimator:hover {background-color: #d4ebff;}#sk-container-id-4 div.sk-parallel-item::after {content: \"\";width: 100%;border-bottom: 1px solid gray;flex-grow: 1;}#sk-container-id-4 div.sk-label:hover label.sk-toggleable__label {background-color: #d4ebff;}#sk-container-id-4 div.sk-serial::before {content: \"\";position: absolute;border-left: 1px solid gray;box-sizing: border-box;top: 0;bottom: 0;left: 50%;z-index: 0;}#sk-container-id-4 div.sk-serial {display: flex;flex-direction: column;align-items: center;background-color: white;padding-right: 0.2em;padding-left: 0.2em;position: relative;}#sk-container-id-4 div.sk-item {position: relative;z-index: 1;}#sk-container-id-4 div.sk-parallel {display: flex;align-items: stretch;justify-content: center;background-color: white;position: relative;}#sk-container-id-4 div.sk-item::before, #sk-container-id-4 div.sk-parallel-item::before {content: \"\";position: absolute;border-left: 1px solid gray;box-sizing: border-box;top: 0;bottom: 0;left: 50%;z-index: -1;}#sk-container-id-4 div.sk-parallel-item {display: flex;flex-direction: column;z-index: 1;position: relative;background-color: white;}#sk-container-id-4 div.sk-parallel-item:first-child::after {align-self: flex-end;width: 50%;}#sk-container-id-4 div.sk-parallel-item:last-child::after {align-self: flex-start;width: 50%;}#sk-container-id-4 div.sk-parallel-item:only-child::after {width: 0;}#sk-container-id-4 div.sk-dashed-wrapped {border: 1px dashed gray;margin: 0 0.4em 0.5em 0.4em;box-sizing: border-box;padding-bottom: 0.4em;background-color: white;}#sk-container-id-4 div.sk-label label {font-family: monospace;font-weight: bold;display: inline-block;line-height: 1.2em;}#sk-container-id-4 div.sk-label-container {text-align: center;}#sk-container-id-4 div.sk-container {/* jupyter's `normalize.less` sets `[hidden] { display: none; }` but bootstrap.min.css set `[hidden] { display: none !important; }` so we also need the `!important` here to be able to override the default hidden behavior on the sphinx rendered scikit-learn.org. See: https://github.com/scikit-learn/scikit-learn/issues/21755 */display: inline-block !important;position: relative;}#sk-container-id-4 div.sk-text-repr-fallback {display: none;}</style><div id=\"sk-container-id-4\" class=\"sk-top-container\"><div class=\"sk-text-repr-fallback\"><pre>PCA(n_components=2)</pre><b>In a Jupyter environment, please rerun this cell to show the HTML representation or trust the notebook. <br />On GitHub, the HTML representation is unable to render, please try loading this page with nbviewer.org.</b></div><div class=\"sk-container\" hidden><div class=\"sk-item\"><div class=\"sk-estimator sk-toggleable\"><input class=\"sk-toggleable__control sk-hidden--visually\" id=\"sk-estimator-id-4\" type=\"checkbox\" checked><label for=\"sk-estimator-id-4\" class=\"sk-toggleable__label sk-toggleable__label-arrow\">PCA</label><div class=\"sk-toggleable__content\"><pre>PCA(n_components=2)</pre></div></div></div></div></div>"
      ],
      "text/plain": [
       "PCA(n_components=2)"
      ]
     },
     "execution_count": 41,
     "metadata": {},
     "output_type": "execute_result"
    }
   ],
   "source": [
    "# Applying PCA\n",
    "pca = PCA(n_components=2)\n",
    "pca.fit(scaled_data)"
   ]
  },
  {
   "cell_type": "code",
   "execution_count": 42,
   "id": "fc95a822",
   "metadata": {},
   "outputs": [
    {
     "name": "stdout",
     "output_type": "stream",
     "text": [
      "Before PCA :  (569, 30)\n",
      "After PCA :  (569, 2)\n"
     ]
    }
   ],
   "source": [
    "X_pca = pca.transform(scaled_data)\n",
    "print(\"Before PCA : \", scaled_data.shape)\n",
    "print(\"After PCA : \", X_pca.shape)"
   ]
  },
  {
   "cell_type": "code",
   "execution_count": 45,
   "id": "526b6ecb",
   "metadata": {},
   "outputs": [
    {
     "data": {
      "image/png": "[encoded data removed]",
      "text/plain": [
       "<Figure size 432x288 with 1 Axes>"
      ]
     },
     "metadata": {
      "needs_background": "light"
     },
     "output_type": "display_data"
    }
   ],
   "source": [
    "fig = plt.figure()\n",
    "ax = fig.add_axes([0,0,1,1])\n",
    "\n",
    "ax.scatter(X_pca[:,0],X_pca[:,1],c=cancer[\"target\"])\n",
    "ax.set_xlabel(\"First Principal Component\")\n",
    "ax.set_ylabel(\"Second Principal Component\")\n",
    "\n",
    "plt.show()"
   ]
  }
 ],
 "metadata": {
  "kernelspec": {
   "display_name": "Python 3 (ipykernel)",
   "language": "python",
   "name": "python3"
  },
  "language_info": {
   "codemirror_mode": {
    "name": "ipython",
    "version": 3
   },
   "file_extension": ".py",
   "mimetype": "text/x-python",
   "name": "python",
   "nbconvert_exporter": "python",
   "pygments_lexer": "ipython3",
   "version": "3.8.10"
  }
 },
 "nbformat": 4,
 "nbformat_minor": 5
}
