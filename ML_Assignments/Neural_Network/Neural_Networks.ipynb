{
 "cells": [
  {
   "cell_type": "code",
   "execution_count": 1,
   "id": "46608bf4",
   "metadata": {},
   "outputs": [],
   "source": [
    "import numpy as np\n",
    "import matplotlib.pyplot as plt\n",
    "import pandas as pd\n",
    "from sklearn.neural_network import MLPRegressor"
   ]
  },
  {
   "cell_type": "code",
   "execution_count": 2,
   "id": "9f5fcb14",
   "metadata": {},
   "outputs": [
    {
     "name": "stdout",
     "output_type": "stream",
     "text": [
      "    Size  Bedroom   Price\n",
      "0   2104        3  399900\n",
      "1   1600        3  329900\n",
      "2   2400        3  369000\n",
      "3   1416        2  232000\n",
      "4   3000        4  539900\n",
      "5   1985        4  299900\n",
      "6   1534        3  314900\n",
      "7   1427        3  198999\n",
      "8   1380        3  212000\n",
      "9   1494        3  242500\n",
      "10  1940        4  239999\n",
      "11  2000        3  347000\n",
      "12  1890        3  329999\n",
      "13  4478        5  699900\n",
      "14  1268        3  259900\n",
      "15  2300        4  449900\n",
      "16  1320        2  299900\n",
      "17  1236        3  199900\n",
      "18  2609        4  499998\n",
      "19  3031        4  599000\n",
      "20  1767        3  252900\n",
      "21  1888        2  255000\n",
      "22  1604        3  242900\n",
      "23  1962        4  259900\n",
      "24  3890        3  573900\n",
      "25  1100        3  249900\n",
      "26  1458        3  464500\n",
      "27  2526        3  469000\n",
      "28  2200        3  475000\n",
      "29  2637        3  299900\n",
      "30  1839        2  349900\n",
      "31  1000        1  169900\n",
      "32  2040        4  314900\n",
      "33  3137        3  579900\n",
      "34  1811        4  285900\n",
      "35  1437        3  249900\n",
      "36  1239        3  229900\n",
      "37  2132        4  345000\n",
      "38  4215        4  549000\n",
      "39  2162        4  287000\n",
      "40  1664        2  368500\n",
      "41  2238        3  329900\n",
      "42  2567        4  314000\n",
      "43  1200        3  299000\n",
      "44   852        2  179900\n",
      "45  1852        4  299900\n",
      "46  1203        3  239500\n"
     ]
    }
   ],
   "source": [
    "# Read the data from .txt file\n",
    "# For MacOS\n",
    "df = pd.read_table('/Users/gmkim/Desktop/ML_Learning/ML_Assignments/Neural_Network/ex1data2.txt',sep=',',header=None,names=['Size','Bedroom','Price'])\n",
    "print(df)"
   ]
  },
  {
   "cell_type": "code",
   "execution_count": null,
   "id": "f5655ea8",
   "metadata": {},
   "outputs": [],
   "source": [
    "# For Linux\n",
    "df = pd.read_table('/home/gmkim/Desktop/ML_Learning/ML_Assignments/Neural_Network/ex1data2.txt',sep=',',header=None,names=['Size','Bedroom','Price'])\n",
    "print(df)"
   ]
  },
  {
   "cell_type": "code",
   "execution_count": 23,
   "id": "5944df6e",
   "metadata": {},
   "outputs": [
    {
     "name": "stdout",
     "output_type": "stream",
     "text": [
      "    Size  Bedroom\n",
      "0   2104        3\n",
      "1   1600        3\n",
      "2   2400        3\n",
      "3   1416        2\n",
      "4   3000        4\n",
      "5   1985        4\n",
      "6   1534        3\n",
      "7   1427        3\n",
      "8   1380        3\n",
      "9   1494        3\n",
      "10  1940        4\n",
      "11  2000        3\n",
      "12  1890        3\n",
      "13  4478        5\n",
      "14  1268        3\n",
      "15  2300        4\n",
      "16  1320        2\n",
      "17  1236        3\n",
      "18  2609        4\n",
      "19  3031        4\n",
      "20  1767        3\n",
      "21  1888        2\n",
      "22  1604        3\n",
      "23  1962        4\n",
      "24  3890        3\n",
      "25  1100        3\n",
      "26  1458        3\n",
      "27  2526        3\n",
      "28  2200        3\n",
      "29  2637        3\n",
      "30  1839        2\n",
      "31  1000        1\n",
      "32  2040        4\n",
      "33  3137        3\n",
      "34  1811        4\n",
      "35  1437        3\n",
      "36  1239        3\n",
      "37  2132        4\n",
      "38  4215        4\n",
      "39  2162        4\n",
      "40  1664        2\n",
      "41  2238        3\n",
      "42  2567        4\n",
      "43  1200        3\n",
      "44   852        2\n",
      "45  1852        4\n",
      "46  1203        3\n",
      "---------------------\n",
      "0     399900\n",
      "1     329900\n",
      "2     369000\n",
      "3     232000\n",
      "4     539900\n",
      "5     299900\n",
      "6     314900\n",
      "7     198999\n",
      "8     212000\n",
      "9     242500\n",
      "10    239999\n",
      "11    347000\n",
      "12    329999\n",
      "13    699900\n",
      "14    259900\n",
      "15    449900\n",
      "16    299900\n",
      "17    199900\n",
      "18    499998\n",
      "19    599000\n",
      "20    252900\n",
      "21    255000\n",
      "22    242900\n",
      "23    259900\n",
      "24    573900\n",
      "25    249900\n",
      "26    464500\n",
      "27    469000\n",
      "28    475000\n",
      "29    299900\n",
      "30    349900\n",
      "31    169900\n",
      "32    314900\n",
      "33    579900\n",
      "34    285900\n",
      "35    249900\n",
      "36    229900\n",
      "37    345000\n",
      "38    549000\n",
      "39    287000\n",
      "40    368500\n",
      "41    329900\n",
      "42    314000\n",
      "43    299000\n",
      "44    179900\n",
      "45    299900\n",
      "46    239500\n",
      "Name: Price, dtype: int64\n"
     ]
    }
   ],
   "source": [
    "X = df[['Size','Bedroom']]\n",
    "y = df['Price']\n",
    "print(X)\n",
    "print('---------------------')\n",
    "print(y)"
   ]
  },
  {
   "cell_type": "code",
   "execution_count": 44,
   "id": "afa449a3",
   "metadata": {},
   "outputs": [
    {
     "name": "stdout",
     "output_type": "stream",
     "text": [
      "        Size   Bedroom\n",
      "0   0.130010 -0.223675\n",
      "1  -0.504190 -0.223675\n",
      "2   0.502476 -0.223675\n",
      "3  -0.735723 -1.537767\n",
      "4   1.257476  1.090417\n",
      "5  -0.019732  1.090417\n",
      "6  -0.587240 -0.223675\n",
      "7  -0.721881 -0.223675\n",
      "8  -0.781023 -0.223675\n",
      "9  -0.637573 -0.223675\n",
      "10 -0.076357  1.090417\n",
      "11 -0.000857 -0.223675\n",
      "12 -0.139273 -0.223675\n",
      "13  3.117292  2.404508\n",
      "14 -0.921956 -0.223675\n",
      "15  0.376643  1.090417\n",
      "16 -0.856523 -1.537767\n",
      "17 -0.962223 -0.223675\n",
      "18  0.765468  1.090417\n",
      "19  1.296484  1.090417\n",
      "20 -0.294048 -0.223675\n",
      "21 -0.141790 -1.537767\n",
      "22 -0.499157 -0.223675\n",
      "23 -0.048673  1.090417\n",
      "24  2.377392 -0.223675\n",
      "25 -1.133356 -0.223675\n",
      "26 -0.682873 -0.223675\n",
      "27  0.661026 -0.223675\n",
      "28  0.250810 -0.223675\n",
      "29  0.800701 -0.223675\n",
      "30 -0.203448 -1.537767\n",
      "31 -1.259189 -2.851859\n",
      "32  0.049477  1.090417\n",
      "33  1.429868 -0.223675\n",
      "34 -0.238682  1.090417\n",
      "35 -0.709298 -0.223675\n",
      "36 -0.958448 -0.223675\n",
      "37  0.165243  1.090417\n",
      "38  2.786350  1.090417\n",
      "39  0.202993  1.090417\n",
      "40 -0.423657 -1.537767\n",
      "41  0.298626 -0.223675\n",
      "42  0.712618  1.090417\n",
      "43 -1.007523 -0.223675\n",
      "44 -1.445423 -1.537767\n",
      "45 -0.187090  1.090417\n",
      "46 -1.003748 -0.223675\n"
     ]
    }
   ],
   "source": [
    "X_re = (X - X.mean()) / X.std()\n",
    "print(X_re)"
   ]
  },
  {
   "cell_type": "code",
   "execution_count": 57,
   "id": "4508d39e",
   "metadata": {},
   "outputs": [
    {
     "data": {
      "text/plain": [
       "MLPRegressor(hidden_layer_sizes=(10, 10, 10), max_iter=20000)"
      ]
     },
     "execution_count": 57,
     "metadata": {},
     "output_type": "execute_result"
    }
   ],
   "source": [
    "nn_reg = MLPRegressor(hidden_layer_sizes=(10,10,10), activation='relu', solver='adam', max_iter=20000)\n",
    "nn_reg.fit(X,y)\n",
    "\n",
    "## layer 수가 너무 많아지면 (=Network가 방대해지면) Backpropagation 에서 미분값이 0이 나온다."
   ]
  },
  {
   "cell_type": "code",
   "execution_count": 58,
   "id": "c87e617f",
   "metadata": {},
   "outputs": [
    {
     "name": "stdout",
     "output_type": "stream",
     "text": [
      "cost =  4359962615.662027\n"
     ]
    }
   ],
   "source": [
    "from sklearn.metrics import mean_squared_error\n",
    "hypothesis = nn_reg.predict(X)\n",
    "print('cost = ',mean_squared_error(hypothesis,y))"
   ]
  }
 ],
 "metadata": {
  "kernelspec": {
   "display_name": "Python 3 (ipykernel)",
   "language": "python",
   "name": "python3"
  },
  "language_info": {
   "codemirror_mode": {
    "name": "ipython",
    "version": 3
   },
   "file_extension": ".py",
   "mimetype": "text/x-python",
   "name": "python",
   "nbconvert_exporter": "python",
   "pygments_lexer": "ipython3",
   "version": "3.8.10"
  }
 },
 "nbformat": 4,
 "nbformat_minor": 5
}
