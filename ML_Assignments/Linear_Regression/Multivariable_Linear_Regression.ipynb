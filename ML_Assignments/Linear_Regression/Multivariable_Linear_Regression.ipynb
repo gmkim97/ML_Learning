{
 "cells": [
  {
   "cell_type": "code",
   "execution_count": 4,
   "id": "84696cd1",
   "metadata": {},
   "outputs": [],
   "source": [
    "import pandas as pd\n",
    "import matplotlib.pyplot as plt\n",
    "import numpy as np"
   ]
  },
  {
   "cell_type": "code",
   "execution_count": 5,
   "id": "c7637633",
   "metadata": {},
   "outputs": [],
   "source": [
    "# Read the data from .txt file\n",
    "df = pd.read_table('/Users/gmkim/Desktop/ML_Learning/Andrew_Ng_Assignments/Linear_Regression/ex1data2.txt',sep=',',header=None,names=['Size','Bedroom','Price'])\n"
   ]
  },
  {
   "cell_type": "code",
   "execution_count": 6,
   "id": "fcae7bf7",
   "metadata": {
    "scrolled": false
   },
   "outputs": [
    {
     "name": "stdout",
     "output_type": "stream",
     "text": [
      "    Size  Bedroom   Price\n",
      "0   2104        3  399900\n",
      "1   1600        3  329900\n",
      "2   2400        3  369000\n",
      "3   1416        2  232000\n",
      "4   3000        4  539900\n",
      "5   1985        4  299900\n",
      "6   1534        3  314900\n",
      "7   1427        3  198999\n",
      "8   1380        3  212000\n",
      "9   1494        3  242500\n",
      "10  1940        4  239999\n",
      "11  2000        3  347000\n",
      "12  1890        3  329999\n",
      "13  4478        5  699900\n",
      "14  1268        3  259900\n",
      "15  2300        4  449900\n",
      "16  1320        2  299900\n",
      "17  1236        3  199900\n",
      "18  2609        4  499998\n",
      "19  3031        4  599000\n",
      "20  1767        3  252900\n",
      "21  1888        2  255000\n",
      "22  1604        3  242900\n",
      "23  1962        4  259900\n",
      "24  3890        3  573900\n",
      "25  1100        3  249900\n",
      "26  1458        3  464500\n",
      "27  2526        3  469000\n",
      "28  2200        3  475000\n",
      "29  2637        3  299900\n",
      "30  1839        2  349900\n",
      "31  1000        1  169900\n",
      "32  2040        4  314900\n",
      "33  3137        3  579900\n",
      "34  1811        4  285900\n",
      "35  1437        3  249900\n",
      "36  1239        3  229900\n",
      "37  2132        4  345000\n",
      "38  4215        4  549000\n",
      "39  2162        4  287000\n",
      "40  1664        2  368500\n",
      "41  2238        3  329900\n",
      "42  2567        4  314000\n",
      "43  1200        3  299000\n",
      "44   852        2  179900\n",
      "45  1852        4  299900\n",
      "46  1203        3  239500\n",
      "47\n"
     ]
    }
   ],
   "source": [
    "print(df)\n",
    "print(len(df.index))"
   ]
  },
  {
   "cell_type": "code",
   "execution_count": 4,
   "id": "2dd8e5ab",
   "metadata": {
    "scrolled": false
   },
   "outputs": [
    {
     "name": "stdout",
     "output_type": "stream",
     "text": [
      "[[ 1.00000000e+00  1.30009869e-01 -2.23675187e-01]\n",
      " [ 1.00000000e+00 -5.04189838e-01 -2.23675187e-01]\n",
      " [ 1.00000000e+00  5.02476364e-01 -2.23675187e-01]\n",
      " [ 1.00000000e+00 -7.35723065e-01 -1.53776691e+00]\n",
      " [ 1.00000000e+00  1.25747602e+00  1.09041654e+00]\n",
      " [ 1.00000000e+00 -1.97317285e-02  1.09041654e+00]\n",
      " [ 1.00000000e+00 -5.87239800e-01 -2.23675187e-01]\n",
      " [ 1.00000000e+00 -7.21881404e-01 -2.23675187e-01]\n",
      " [ 1.00000000e+00 -7.81023044e-01 -2.23675187e-01]\n",
      " [ 1.00000000e+00 -6.37573110e-01 -2.23675187e-01]\n",
      " [ 1.00000000e+00 -7.63567023e-02  1.09041654e+00]\n",
      " [ 1.00000000e+00 -8.56737193e-04 -2.23675187e-01]\n",
      " [ 1.00000000e+00 -1.39273340e-01 -2.23675187e-01]\n",
      " [ 1.00000000e+00  3.11729182e+00  2.40450826e+00]\n",
      " [ 1.00000000e+00 -9.21956312e-01 -2.23675187e-01]\n",
      " [ 1.00000000e+00  3.76643089e-01  1.09041654e+00]\n",
      " [ 1.00000000e+00 -8.56523009e-01 -1.53776691e+00]\n",
      " [ 1.00000000e+00 -9.62222960e-01 -2.23675187e-01]\n",
      " [ 1.00000000e+00  7.65467909e-01  1.09041654e+00]\n",
      " [ 1.00000000e+00  1.29648433e+00  1.09041654e+00]\n",
      " [ 1.00000000e+00 -2.94048269e-01 -2.23675187e-01]\n",
      " [ 1.00000000e+00 -1.41790005e-01 -1.53776691e+00]\n",
      " [ 1.00000000e+00 -4.99156507e-01 -2.23675187e-01]\n",
      " [ 1.00000000e+00 -4.86733818e-02  1.09041654e+00]\n",
      " [ 1.00000000e+00  2.37739217e+00 -2.23675187e-01]\n",
      " [ 1.00000000e+00 -1.13335621e+00 -2.23675187e-01]\n",
      " [ 1.00000000e+00 -6.82873089e-01 -2.23675187e-01]\n",
      " [ 1.00000000e+00  6.61026291e-01 -2.23675187e-01]\n",
      " [ 1.00000000e+00  2.50809813e-01 -2.23675187e-01]\n",
      " [ 1.00000000e+00  8.00701226e-01 -2.23675187e-01]\n",
      " [ 1.00000000e+00 -2.03448310e-01 -1.53776691e+00]\n",
      " [ 1.00000000e+00 -1.25918949e+00 -2.85185864e+00]\n",
      " [ 1.00000000e+00  4.94765729e-02  1.09041654e+00]\n",
      " [ 1.00000000e+00  1.42986760e+00 -2.23675187e-01]\n",
      " [ 1.00000000e+00 -2.38681627e-01  1.09041654e+00]\n",
      " [ 1.00000000e+00 -7.09298077e-01 -2.23675187e-01]\n",
      " [ 1.00000000e+00 -9.58447962e-01 -2.23675187e-01]\n",
      " [ 1.00000000e+00  1.65243186e-01  1.09041654e+00]\n",
      " [ 1.00000000e+00  2.78635031e+00  1.09041654e+00]\n",
      " [ 1.00000000e+00  2.02993169e-01  1.09041654e+00]\n",
      " [ 1.00000000e+00 -4.23656542e-01 -1.53776691e+00]\n",
      " [ 1.00000000e+00  2.98626458e-01 -2.23675187e-01]\n",
      " [ 1.00000000e+00  7.12617934e-01  1.09041654e+00]\n",
      " [ 1.00000000e+00 -1.00752294e+00 -2.23675187e-01]\n",
      " [ 1.00000000e+00 -1.44542274e+00 -1.53776691e+00]\n",
      " [ 1.00000000e+00 -1.87089985e-01  1.09041654e+00]\n",
      " [ 1.00000000e+00 -1.00374794e+00 -2.23675187e-01]]\n",
      "0     399900\n",
      "1     329900\n",
      "2     369000\n",
      "3     232000\n",
      "4     539900\n",
      "5     299900\n",
      "6     314900\n",
      "7     198999\n",
      "8     212000\n",
      "9     242500\n",
      "10    239999\n",
      "11    347000\n",
      "12    329999\n",
      "13    699900\n",
      "14    259900\n",
      "15    449900\n",
      "16    299900\n",
      "17    199900\n",
      "18    499998\n",
      "19    599000\n",
      "20    252900\n",
      "21    255000\n",
      "22    242900\n",
      "23    259900\n",
      "24    573900\n",
      "25    249900\n",
      "26    464500\n",
      "27    469000\n",
      "28    475000\n",
      "29    299900\n",
      "30    349900\n",
      "31    169900\n",
      "32    314900\n",
      "33    579900\n",
      "34    285900\n",
      "35    249900\n",
      "36    229900\n",
      "37    345000\n",
      "38    549000\n",
      "39    287000\n",
      "40    368500\n",
      "41    329900\n",
      "42    314000\n",
      "43    299000\n",
      "44    179900\n",
      "45    299900\n",
      "46    239500\n",
      "Name: Price, dtype: int64\n"
     ]
    }
   ],
   "source": [
    "x_vec = df[['Size','Bedroom']]\n",
    "x_vec = (x_vec - x_vec.mean()) / x_vec.std()\n",
    "x0 = np.ones(x_vec.shape[0])\n",
    "x_vec = np.c_[x0,x_vec]\n",
    "y = df['Price']\n",
    "print(x_vec)\n",
    "print(y)"
   ]
  },
  {
   "cell_type": "code",
   "execution_count": 5,
   "id": "ecfd861d",
   "metadata": {},
   "outputs": [],
   "source": [
    "# Fitting into Multivariable Linear Regression model"
   ]
  },
  {
   "cell_type": "code",
   "execution_count": 6,
   "id": "c409f44f",
   "metadata": {},
   "outputs": [],
   "source": [
    "def costfnc(x_vec, y, h):\n",
    "    return np.dot((h - y).T,(h - y)) / (2 * x_vec.shape[0])"
   ]
  },
  {
   "cell_type": "code",
   "execution_count": 7,
   "id": "370d88c2",
   "metadata": {},
   "outputs": [],
   "source": [
    "def gradientfnc(x_vec, y, h):\n",
    "    return np.dot(x_vec.T,(h - y)) / x_vec.shape[0]"
   ]
  },
  {
   "cell_type": "code",
   "execution_count": 8,
   "id": "a9270773",
   "metadata": {},
   "outputs": [],
   "source": [
    "# 1. Algorithm of Gradient Descent\n",
    "lr = 0.001\n",
    "epochs = 20000\n",
    "theta_vec = np.zeros(x_vec.shape[1])\n",
    "m = len(df.index)\n",
    "cost_list = []"
   ]
  },
  {
   "cell_type": "code",
   "execution_count": 9,
   "id": "9582bd50",
   "metadata": {},
   "outputs": [
    {
     "name": "stdout",
     "output_type": "stream",
     "text": [
      "cost =  2043280099.3319333\n"
     ]
    }
   ],
   "source": [
    "for i in range(epochs):\n",
    "    h = np.dot(x_vec,theta_vec)\n",
    "    cost = costfnc(x_vec, y, h)\n",
    "    cost_list.append(cost)\n",
    "    theta_vec = theta_vec - lr * gradientfnc(x_vec, y, h)\n",
    "\n",
    "print('cost = ',cost)\n",
    "# Cause of Error : Normalization"
   ]
  },
  {
   "cell_type": "code",
   "execution_count": 10,
   "id": "e34af232",
   "metadata": {},
   "outputs": [
    {
     "data": {
      "image/png": "[encoded data removed]",
      "text/plain": [
       "<Figure size 432x288 with 1 Axes>"
      ]
     },
     "metadata": {
      "needs_background": "light"
     },
     "output_type": "display_data"
    }
   ],
   "source": [
    "plt.plot(np.arange(epochs),cost_list, 'r')\n",
    "plt.title('Iterations vs Cost')\n",
    "plt.xlabel('Iterations')\n",
    "plt.ylabel('Cost')\n",
    "plt.show()"
   ]
  },
  {
   "cell_type": "code",
   "execution_count": 9,
   "id": "efc57a0d",
   "metadata": {},
   "outputs": [],
   "source": [
    "# 2. Using scikit-learn\n",
    "from sklearn.linear_model import LinearRegression\n",
    "mlinreg = LinearRegression()"
   ]
  },
  {
   "cell_type": "code",
   "execution_count": 10,
   "id": "9db34436",
   "metadata": {},
   "outputs": [
    {
     "data": {
      "text/html": [
       "<style>#sk-container-id-1 {color: black;background-color: white;}#sk-container-id-1 pre{padding: 0;}#sk-container-id-1 div.sk-toggleable {background-color: white;}#sk-container-id-1 label.sk-toggleable__label {cursor: pointer;display: block;width: 100%;margin-bottom: 0;padding: 0.3em;box-sizing: border-box;text-align: center;}#sk-container-id-1 label.sk-toggleable__label-arrow:before {content: \"▸\";float: left;margin-right: 0.25em;color: #696969;}#sk-container-id-1 label.sk-toggleable__label-arrow:hover:before {color: black;}#sk-container-id-1 div.sk-estimator:hover label.sk-toggleable__label-arrow:before {color: black;}#sk-container-id-1 div.sk-toggleable__content {max-height: 0;max-width: 0;overflow: hidden;text-align: left;background-color: #f0f8ff;}#sk-container-id-1 div.sk-toggleable__content pre {margin: 0.2em;color: black;border-radius: 0.25em;background-color: #f0f8ff;}#sk-container-id-1 input.sk-toggleable__control:checked~div.sk-toggleable__content {max-height: 200px;max-width: 100%;overflow: auto;}#sk-container-id-1 input.sk-toggleable__control:checked~label.sk-toggleable__label-arrow:before {content: \"▾\";}#sk-container-id-1 div.sk-estimator input.sk-toggleable__control:checked~label.sk-toggleable__label {background-color: #d4ebff;}#sk-container-id-1 div.sk-label input.sk-toggleable__control:checked~label.sk-toggleable__label {background-color: #d4ebff;}#sk-container-id-1 input.sk-hidden--visually {border: 0;clip: rect(1px 1px 1px 1px);clip: rect(1px, 1px, 1px, 1px);height: 1px;margin: -1px;overflow: hidden;padding: 0;position: absolute;width: 1px;}#sk-container-id-1 div.sk-estimator {font-family: monospace;background-color: #f0f8ff;border: 1px dotted black;border-radius: 0.25em;box-sizing: border-box;margin-bottom: 0.5em;}#sk-container-id-1 div.sk-estimator:hover {background-color: #d4ebff;}#sk-container-id-1 div.sk-parallel-item::after {content: \"\";width: 100%;border-bottom: 1px solid gray;flex-grow: 1;}#sk-container-id-1 div.sk-label:hover label.sk-toggleable__label {background-color: #d4ebff;}#sk-container-id-1 div.sk-serial::before {content: \"\";position: absolute;border-left: 1px solid gray;box-sizing: border-box;top: 0;bottom: 0;left: 50%;z-index: 0;}#sk-container-id-1 div.sk-serial {display: flex;flex-direction: column;align-items: center;background-color: white;padding-right: 0.2em;padding-left: 0.2em;position: relative;}#sk-container-id-1 div.sk-item {position: relative;z-index: 1;}#sk-container-id-1 div.sk-parallel {display: flex;align-items: stretch;justify-content: center;background-color: white;position: relative;}#sk-container-id-1 div.sk-item::before, #sk-container-id-1 div.sk-parallel-item::before {content: \"\";position: absolute;border-left: 1px solid gray;box-sizing: border-box;top: 0;bottom: 0;left: 50%;z-index: -1;}#sk-container-id-1 div.sk-parallel-item {display: flex;flex-direction: column;z-index: 1;position: relative;background-color: white;}#sk-container-id-1 div.sk-parallel-item:first-child::after {align-self: flex-end;width: 50%;}#sk-container-id-1 div.sk-parallel-item:last-child::after {align-self: flex-start;width: 50%;}#sk-container-id-1 div.sk-parallel-item:only-child::after {width: 0;}#sk-container-id-1 div.sk-dashed-wrapped {border: 1px dashed gray;margin: 0 0.4em 0.5em 0.4em;box-sizing: border-box;padding-bottom: 0.4em;background-color: white;}#sk-container-id-1 div.sk-label label {font-family: monospace;font-weight: bold;display: inline-block;line-height: 1.2em;}#sk-container-id-1 div.sk-label-container {text-align: center;}#sk-container-id-1 div.sk-container {/* jupyter's `normalize.less` sets `[hidden] { display: none; }` but bootstrap.min.css set `[hidden] { display: none !important; }` so we also need the `!important` here to be able to override the default hidden behavior on the sphinx rendered scikit-learn.org. See: https://github.com/scikit-learn/scikit-learn/issues/21755 */display: inline-block !important;position: relative;}#sk-container-id-1 div.sk-text-repr-fallback {display: none;}</style><div id=\"sk-container-id-1\" class=\"sk-top-container\"><div class=\"sk-text-repr-fallback\"><pre>LinearRegression()</pre><b>In a Jupyter environment, please rerun this cell to show the HTML representation or trust the notebook. <br />On GitHub, the HTML representation is unable to render, please try loading this page with nbviewer.org.</b></div><div class=\"sk-container\" hidden><div class=\"sk-item\"><div class=\"sk-estimator sk-toggleable\"><input class=\"sk-toggleable__control sk-hidden--visually\" id=\"sk-estimator-id-1\" type=\"checkbox\" checked><label for=\"sk-estimator-id-1\" class=\"sk-toggleable__label sk-toggleable__label-arrow\">LinearRegression</label><div class=\"sk-toggleable__content\"><pre>LinearRegression()</pre></div></div></div></div></div>"
      ],
      "text/plain": [
       "LinearRegression()"
      ]
     },
     "execution_count": 10,
     "metadata": {},
     "output_type": "execute_result"
    }
   ],
   "source": [
    "X = df.drop(labels='Price',axis=1)\n",
    "y = df['Price']\n",
    "mlinreg.fit(X,y)"
   ]
  },
  {
   "cell_type": "code",
   "execution_count": 12,
   "id": "3edd94e5",
   "metadata": {},
   "outputs": [
    {
     "name": "stdout",
     "output_type": "stream",
     "text": [
      "cost =  4086560101.2056575\n"
     ]
    }
   ],
   "source": [
    "from sklearn.metrics import mean_squared_error\n",
    "hypothesis = mlinreg.predict(X)\n",
    "print('cost = ',mean_squared_error(hypothesis,y))"
   ]
  }
 ],
 "metadata": {
  "kernelspec": {
   "display_name": "Python 3 (ipykernel)",
   "language": "python",
   "name": "python3"
  },
  "language_info": {
   "codemirror_mode": {
    "name": "ipython",
    "version": 3
   },
   "file_extension": ".py",
   "mimetype": "text/x-python",
   "name": "python",
   "nbconvert_exporter": "python",
   "pygments_lexer": "ipython3",
   "version": "3.8.16"
  }
 },
 "nbformat": 4,
 "nbformat_minor": 5
}
